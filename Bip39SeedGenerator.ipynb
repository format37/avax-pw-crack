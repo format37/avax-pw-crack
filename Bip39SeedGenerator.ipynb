{
 "cells": [
  {
   "cell_type": "code",
   "execution_count": 3,
   "id": "43c22aac",
   "metadata": {},
   "outputs": [],
   "source": [
    "# !pip install bip_utils"
   ]
  },
  {
   "cell_type": "code",
   "execution_count": 4,
   "id": "5ee597c1",
   "metadata": {},
   "outputs": [],
   "source": [
    "from bip_utils import Bip39SeedGenerator"
   ]
  },
  {
   "cell_type": "code",
   "execution_count": 5,
   "id": "96ebab9e",
   "metadata": {},
   "outputs": [],
   "source": [
    "mnemonic = 'sell stereo useless course suffer tribe jazz monster fresh excess wire again father film sudden pelican always room attack rubber pelican trash alone cancel'\n",
    "passphrase = 'TESTPHRASG'\n",
    "seed_generator = Bip39SeedGenerator(mnemonic)\n",
    "seed_bytes = seed_generator.Generate(passphrase)"
   ]
  },
  {
   "cell_type": "code",
   "execution_count": 6,
   "id": "83ecfe49",
   "metadata": {},
   "outputs": [
    {
     "data": {
      "text/plain": [
       "<bip_utils.bip.bip39.bip39_seed_generator.Bip39SeedGenerator at 0x7fb7ef03b1d0>"
      ]
     },
     "execution_count": 6,
     "metadata": {},
     "output_type": "execute_result"
    }
   ],
   "source": [
    "seed_generator"
   ]
  },
  {
   "cell_type": "code",
   "execution_count": 7,
   "id": "8ea917c9",
   "metadata": {},
   "outputs": [
    {
     "data": {
      "text/plain": [
       "b'#\\xcd\\x8f!\\x11\\x87I\\xc3\\xd3H\\xe1\\x14\\xa5;\\x1c\\xed\\xe7\\xfd\\x02\\x0b\\xfa_\\x9b\\xf6y8\\xb1-g\\xb5\"\\xaa\\xf3pH\\x0e\\xd6p\\xa1\\xc4\\x1a\\xae\\x0c\\x00b\\xfa\\xce\\xb6\\xae\\xa0\\xc01\\xcc)\\x07\\xe8\\xaa\\xad\\xd2:\\xe8\\x07h\\x18'"
      ]
     },
     "execution_count": 7,
     "metadata": {},
     "output_type": "execute_result"
    }
   ],
   "source": [
    "seed_bytes"
   ]
  }
 ],
 "metadata": {
  "kernelspec": {
   "display_name": "Python 3 (ipykernel)",
   "language": "python",
   "name": "python3"
  },
  "language_info": {
   "codemirror_mode": {
    "name": "ipython",
    "version": 3
   },
   "file_extension": ".py",
   "mimetype": "text/x-python",
   "name": "python",
   "nbconvert_exporter": "python",
   "pygments_lexer": "ipython3",
   "version": "3.10.12"
  }
 },
 "nbformat": 4,
 "nbformat_minor": 5
}
